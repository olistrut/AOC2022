{
  "nbformat": 4,
  "nbformat_minor": 0,
  "metadata": {
    "colab": {
      "provenance": [],
      "authorship_tag": "ABX9TyPJFWbdntzUhOOT7pm5S6ND",
      "include_colab_link": true
    },
    "kernelspec": {
      "name": "python3",
      "display_name": "Python 3"
    },
    "language_info": {
      "name": "python"
    }
  },
  "cells": [
    {
      "cell_type": "markdown",
      "metadata": {
        "id": "view-in-github",
        "colab_type": "text"
      },
      "source": [
        "<a href=\"https://colab.research.google.com/github/olistrut/AOC2022/blob/main/Day_2.ipynb\" target=\"_parent\"><img src=\"https://colab.research.google.com/assets/colab-badge.svg\" alt=\"Open In Colab\"/></a>"
      ]
    },
    {
      "cell_type": "code",
      "execution_count": null,
      "metadata": {
        "colab": {
          "base_uri": "https://localhost:8080/"
        },
        "id": "EIHG3cyu_65C",
        "outputId": "97955a2a-c7fa-44f6-d71d-d94ab27e1f8c"
      },
      "outputs": [
        {
          "output_type": "stream",
          "name": "stdout",
          "text": [
            "Drive already mounted at /drive; to attempt to forcibly remount, call drive.mount(\"/drive\", force_remount=True).\n",
            "Part 1:  10994\n",
            "Part 2:  12526\n"
          ]
        }
      ],
      "source": [
        "import pandas as pd\n",
        "from google.colab import drive\n",
        "drive.mount ('/drive')\n",
        "\n",
        "# read text file into pandas DataFrame\n",
        "df = pd.read_csv(\"/drive/My Drive/AOC/input2.txt\", sep=\" \", header=None)\n",
        "df.columns = [\"Challenge\", \"Response\"]\n",
        "df = df.reindex(columns = [\"Challenge\", \"Response\", \"Value\", \"WinValue\"]) \n",
        "\n",
        "# Part 1\n",
        "for index, row in df.iterrows():\n",
        "    #print(row)\n",
        "    value = 0\n",
        "    winValue = 0\n",
        "    if (row['Response'] == \"X\"): value += 1 \n",
        "    elif (row['Response'] == \"Y\"): value += 2 \n",
        "    elif (row['Response'] == \"Z\"): value += 3 \n",
        "    \n",
        "    if (row['Challenge'] == \"A\"):\n",
        "      if(row['Response'] == \"X\"): \n",
        "        value += 3\n",
        "        winValue += 3 # Response Z, Lose  \n",
        "      elif (row['Response'] == \"Y\"): \n",
        "        value += 6\n",
        "        winValue += 4 # Response X, Draw\n",
        "      elif (row['Response'] == \"Z\"): \n",
        "        winValue += 8 # Response Y, Win\n",
        "\n",
        "    elif (row['Challenge'] == \"B\"):\n",
        "      if(row['Response'] == \"Y\"): \n",
        "        value += 3 \n",
        "        winValue += 5 # Draw, Response Y\n",
        "      elif (row['Response'] == \"Z\"): \n",
        "        value += 6 \n",
        "        winValue += 9 # Win, Response Z\n",
        "      elif (row['Response'] == \"X\"): winValue += 1 # Lose, Response X\n",
        "\n",
        "    elif (row['Challenge'] == \"C\"):\n",
        "      if(row['Response'] == \"Z\"): \n",
        "        value += 3 \n",
        "        winValue += 7 # Win, Response X\n",
        "      elif (row['Response'] == \"X\"): \n",
        "        value += 6 \n",
        "        winValue += 2 # Lose, Response Y\n",
        "      elif (row['Response'] == \"Y\"): winValue += 6 # Draw, Response Z\n",
        "\n",
        "\n",
        "    df.at[row.name,'Value'] = value\n",
        "    df.at[row.name,'WinValue'] = winValue\n",
        "\n",
        "print (\"Part 1: \", int(df['Value'].sum()))\n",
        "print (\"Part 2: \", int(df['WinValue'].sum()))\n",
        "\n",
        "\n"
      ]
    }
  ]
}